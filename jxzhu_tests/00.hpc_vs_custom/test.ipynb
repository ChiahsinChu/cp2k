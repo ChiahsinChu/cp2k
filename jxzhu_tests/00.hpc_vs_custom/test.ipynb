{
 "cells": [
  {
   "cell_type": "code",
   "execution_count": 6,
   "id": "9f599d7e-26a3-4490-aa54-b1e49dc4ccd0",
   "metadata": {},
   "outputs": [],
   "source": [
    "import numpy as np\n",
    "import os"
   ]
  },
  {
   "cell_type": "code",
   "execution_count": 3,
   "id": "b857f477-bb34-4d01-b564-3ad0babc6e9e",
   "metadata": {},
   "outputs": [],
   "source": [
    "from intdielec.io.cp2k import Cp2kOutput, Cp2kHartreeCube, Cp2kCube"
   ]
  },
  {
   "cell_type": "code",
   "execution_count": 4,
   "id": "823d6ba4-2817-40b1-aa3f-f71ed8a4804a",
   "metadata": {},
   "outputs": [],
   "source": [
    "class Cp2kTest:\n",
    "    def __init__(self, work_dir):\n",
    "        self.work_dir = work_dir\n",
    "        self.stdout = Cp2kOutput(os.path.join(work_dir, \"output.out\"))\n",
    "        self.hartree_cube = Cp2kHartreeCube(os.path.join(work_dir, \"cp2k-v_hartree-1_0.cube\"))\n",
    "        self.eden_cube = Cp2kCube(os.path.join(work_dir, \"cp2k-ELECTRON_DENSITY-1_0.cube\"))\n",
    "        self.totden_cube = Cp2kCube(os.path.join(work_dir, \"cp2k-TOTAL_DENSITY-1_0.cube\"))\n",
    "    \n",
    "    @property\n",
    "    def data(self):\n",
    "        data_dict = {}\n",
    "        data_dict.update(self.stdout.energy_dict)\n",
    "        data_dict[\"energy\"] = self.stdout.energy\n",
    "        data_dict[\"force\"] = self.stdout.force\n",
    "        data_dict[\"hartree_cube\"] = self.hartree_cube.cube_data\n",
    "        data_dict[\"eden_cube\"] = self.eden_cube.cube_data\n",
    "        data_dict[\"totden_cube\"] = self.totden_cube.cube_data\n",
    "        return data_dict"
   ]
  },
  {
   "cell_type": "code",
   "execution_count": 7,
   "id": "ad8fedb8-5c25-4922-999e-6e77c15142ec",
   "metadata": {},
   "outputs": [],
   "source": [
    "task_hpc = Cp2kTest(\"hpc\")"
   ]
  },
  {
   "cell_type": "code",
   "execution_count": 8,
   "id": "047c8b72-6119-4e8e-8cc6-9e5a3d003215",
   "metadata": {},
   "outputs": [],
   "source": [
    "task_custom = Cp2kTest(\"custom\")"
   ]
  },
  {
   "cell_type": "code",
   "execution_count": 23,
   "id": "0ee9b29f-85dd-41f6-9308-4ef7ac25612c",
   "metadata": {},
   "outputs": [
    {
     "name": "stdout",
     "output_type": "stream",
     "text": [
      "--------------------------------------------------\n",
      "Total energy\n",
      "--------------------------------------------------\n",
      "hpc:  -7672.85412780205\n",
      "custom:  -7672.855110313824\n",
      "difference:  -0.0009825117740547284\n",
      "--------------------------------------------------\n",
      "--------------------------------------------------\n",
      "Overlap energy of the core charge distribution\n",
      "--------------------------------------------------\n",
      "hpc:  1.2291773931934016e-06\n",
      "custom:  1.2291773931934016e-06\n",
      "difference:  0.0\n",
      "--------------------------------------------------\n",
      "--------------------------------------------------\n",
      "Self energy of the core charge distribution\n",
      "--------------------------------------------------\n",
      "hpc:  -20857.792994571886\n",
      "custom:  -20857.792994571886\n",
      "difference:  0.0\n",
      "--------------------------------------------------\n",
      "--------------------------------------------------\n",
      "Core Hamiltonian energy\n",
      "--------------------------------------------------\n",
      "hpc:  4377.6846858133085\n",
      "custom:  4377.684133903319\n",
      "difference:  -0.0005519099895536783\n",
      "--------------------------------------------------\n",
      "--------------------------------------------------\n",
      "Hartree energy\n",
      "--------------------------------------------------\n",
      "hpc:  11662.93813505417\n",
      "custom:  11662.9378094673\n",
      "difference:  -0.00032558687053096946\n",
      "--------------------------------------------------\n",
      "--------------------------------------------------\n",
      "Exchange-correlation energy\n",
      "--------------------------------------------------\n",
      "hpc:  -2841.445127576252\n",
      "custom:  -2841.4452400693854\n",
      "difference:  -0.00011249313320149668\n",
      "--------------------------------------------------\n",
      "--------------------------------------------------\n",
      "Dispersion energy\n",
      "--------------------------------------------------\n",
      "hpc:  -13.77876336057491\n",
      "custom:  -13.77876336057491\n",
      "difference:  0.0\n",
      "--------------------------------------------------\n",
      "--------------------------------------------------\n",
      "Electronic entropic energy\n",
      "--------------------------------------------------\n",
      "hpc:  -0.2082136707381823\n",
      "custom:  -0.2082134327392557\n",
      "difference:  2.379989266221294e-07\n",
      "--------------------------------------------------\n",
      "--------------------------------------------------\n",
      "energy\n",
      "--------------------------------------------------\n",
      "hpc:  -7672.602955364519\n",
      "custom:  -7672.60295536662\n",
      "difference:  -2.1009327610954642e-09\n",
      "--------------------------------------------------\n",
      "--------------------------------------------------\n",
      "force\n",
      "--------------------------------------------------\n",
      "RMSE:  6.697186484411573e-06\n",
      "--------------------------------------------------\n",
      "--------------------------------------------------\n",
      "hartree_cube\n",
      "--------------------------------------------------\n",
      "RMSE:  1.566708720649909e-06\n",
      "--------------------------------------------------\n",
      "--------------------------------------------------\n",
      "eden_cube\n",
      "--------------------------------------------------\n",
      "RMSE:  4.1065430827749556e-08\n",
      "--------------------------------------------------\n",
      "--------------------------------------------------\n",
      "totden_cube\n",
      "--------------------------------------------------\n",
      "RMSE:  4.583880892967034e-08\n",
      "--------------------------------------------------\n"
     ]
    }
   ],
   "source": [
    "for k, v in task_hpc.data.items():\n",
    "    print(\"-\" * 50)\n",
    "    print(k)\n",
    "    print(\"-\" * 50)\n",
    "    if isinstance(v, float):\n",
    "        print(\"hpc: \", v)\n",
    "        print(\"custom: \", task_custom.data[k])\n",
    "        print(\"difference: \", task_custom.data[k] - v) \n",
    "    elif isinstance(v, list) and len(v) == 1:\n",
    "        print(\"hpc: \", v[0])\n",
    "        print(\"custom: \", task_custom.data[k][0])\n",
    "        print(\"difference: \", task_custom.data[k][0] - v[0])\n",
    "    else:\n",
    "        hpc_data = np.reshape(v, -1)\n",
    "        custom_data = np.reshape(task_custom.data[k], -1)\n",
    "        print(\"RMSE: \", np.sqrt(np.mean((hpc_data - custom_data) ** 2)))\n",
    "    print(\"-\" * 50)"
   ]
  }
 ],
 "metadata": {
  "kernelspec": {
   "display_name": "gnn",
   "language": "python",
   "name": "gnn"
  },
  "language_info": {
   "codemirror_mode": {
    "name": "ipython",
    "version": 3
   },
   "file_extension": ".py",
   "mimetype": "text/x-python",
   "name": "python",
   "nbconvert_exporter": "python",
   "pygments_lexer": "ipython3",
   "version": "3.9.13"
  }
 },
 "nbformat": 4,
 "nbformat_minor": 5
}
